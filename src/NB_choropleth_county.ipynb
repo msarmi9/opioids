{
 "cells": [
  {
   "cell_type": "markdown",
   "metadata": {},
   "source": [
    "# County wise plot"
   ]
  },
  {
   "cell_type": "code",
   "execution_count": 71,
   "metadata": {},
   "outputs": [],
   "source": [
    "import pandas as pd\n",
    "import numpy as np"
   ]
  },
  {
   "cell_type": "code",
   "execution_count": 72,
   "metadata": {},
   "outputs": [
    {
     "name": "stdout",
     "output_type": "stream",
     "text": [
      "The rpy2.ipython extension is already loaded. To reload it, use:\n",
      "  %reload_ext rpy2.ipython\n"
     ]
    },
    {
     "data": {
      "text/plain": [
       "array(['usmap', 'dplyr', 'maps', 'ggplot2', 'tools', 'stats', 'graphics',\n",
       "       'grDevices', 'utils', 'datasets', 'methods', 'base'], dtype='<U9')"
      ]
     },
     "execution_count": 72,
     "metadata": {},
     "output_type": "execute_result"
    }
   ],
   "source": [
    "import os\n",
    "os.environ['KMP_DUPLICATE_LIB_OK']='True'\n",
    "# this only need to be run once\n",
    "%load_ext rpy2.ipython\n",
    "%R library(ggplot2)\n",
    "\n",
    "%R library(maps)"
   ]
  },
  {
   "cell_type": "code",
   "execution_count": 73,
   "metadata": {},
   "outputs": [],
   "source": [
    "def handle_na_values(df):\n",
    "    out_df = df.copy()\n",
    "    for i in out_df.columns:\n",
    "        if out_df[i].dtype == np.object:\n",
    "            out_df[i] = out_df[i].astype(str)\n",
    "    return out_df"
   ]
  },
  {
   "cell_type": "code",
   "execution_count": 74,
   "metadata": {},
   "outputs": [],
   "source": [
    "%%R \n",
    "library(ggplot2)\n",
    "library(dplyr)"
   ]
  },
  {
   "cell_type": "code",
   "execution_count": 75,
   "metadata": {},
   "outputs": [],
   "source": [
    "\n",
    "def txt_into_df(path ):\n",
    "\n",
    "    with open(path) as f:\n",
    "        l = f.read()\n",
    "\n",
    "    l = l.split('\\n')\n",
    "\n",
    "    l = [i.split('\\t') for i in l]\n",
    "\n",
    "    len_ = len(l[0])\n",
    "\n",
    "    l = [i for i in l if len(i)==len_]\n",
    "\n",
    "    return pd.DataFrame(l[1:] , columns = l[0])\n",
    "    "
   ]
  },
  {
   "cell_type": "code",
   "execution_count": 76,
   "metadata": {},
   "outputs": [],
   "source": [
    "county_df = txt_into_df('../input/county_2017.txt')"
   ]
  },
  {
   "cell_type": "code",
   "execution_count": 77,
   "metadata": {},
   "outputs": [],
   "source": [
    "county_df  = county_df.iloc[:-1]"
   ]
  },
  {
   "cell_type": "code",
   "execution_count": 78,
   "metadata": {},
   "outputs": [],
   "source": [
    "county_df.columns = [\"Notes\", \"County\", \"County Code\", 'Deaths', 'Population',\n",
    "       'Crude Rate', 'Age Adjusted Rate']"
   ]
  },
  {
   "cell_type": "code",
   "execution_count": 79,
   "metadata": {},
   "outputs": [
    {
     "data": {
      "text/html": [
       "<div>\n",
       "<style scoped>\n",
       "    .dataframe tbody tr th:only-of-type {\n",
       "        vertical-align: middle;\n",
       "    }\n",
       "\n",
       "    .dataframe tbody tr th {\n",
       "        vertical-align: top;\n",
       "    }\n",
       "\n",
       "    .dataframe thead th {\n",
       "        text-align: right;\n",
       "    }\n",
       "</style>\n",
       "<table border=\"1\" class=\"dataframe\">\n",
       "  <thead>\n",
       "    <tr style=\"text-align: right;\">\n",
       "      <th></th>\n",
       "      <th>Notes</th>\n",
       "      <th>County</th>\n",
       "      <th>County Code</th>\n",
       "      <th>Deaths</th>\n",
       "      <th>Population</th>\n",
       "      <th>Crude Rate</th>\n",
       "      <th>Age Adjusted Rate</th>\n",
       "    </tr>\n",
       "  </thead>\n",
       "  <tbody>\n",
       "    <tr>\n",
       "      <th>0</th>\n",
       "      <td></td>\n",
       "      <td>\"Baldwin County, AL\"</td>\n",
       "      <td>\"01003\"</td>\n",
       "      <td>27</td>\n",
       "      <td>212628</td>\n",
       "      <td>12.7</td>\n",
       "      <td>13.8</td>\n",
       "    </tr>\n",
       "    <tr>\n",
       "      <th>1</th>\n",
       "      <td></td>\n",
       "      <td>\"Blount County, AL\"</td>\n",
       "      <td>\"01009\"</td>\n",
       "      <td>18</td>\n",
       "      <td>58013</td>\n",
       "      <td>Unreliable</td>\n",
       "      <td>Unreliable</td>\n",
       "    </tr>\n",
       "    <tr>\n",
       "      <th>2</th>\n",
       "      <td></td>\n",
       "      <td>\"Calhoun County, AL\"</td>\n",
       "      <td>\"01015\"</td>\n",
       "      <td>31</td>\n",
       "      <td>114728</td>\n",
       "      <td>27.0</td>\n",
       "      <td>29.8</td>\n",
       "    </tr>\n",
       "    <tr>\n",
       "      <th>3</th>\n",
       "      <td></td>\n",
       "      <td>\"Cullman County, AL\"</td>\n",
       "      <td>\"01043\"</td>\n",
       "      <td>19</td>\n",
       "      <td>82755</td>\n",
       "      <td>Unreliable</td>\n",
       "      <td>Unreliable</td>\n",
       "    </tr>\n",
       "    <tr>\n",
       "      <th>4</th>\n",
       "      <td></td>\n",
       "      <td>\"DeKalb County, AL\"</td>\n",
       "      <td>\"01049\"</td>\n",
       "      <td>26</td>\n",
       "      <td>71617</td>\n",
       "      <td>36.3</td>\n",
       "      <td>36.2</td>\n",
       "    </tr>\n",
       "  </tbody>\n",
       "</table>\n",
       "</div>"
      ],
      "text/plain": [
       "  Notes                County County Code Deaths Population  Crude Rate  \\\n",
       "0        \"Baldwin County, AL\"     \"01003\"     27     212628        12.7   \n",
       "1         \"Blount County, AL\"     \"01009\"     18      58013  Unreliable   \n",
       "2        \"Calhoun County, AL\"     \"01015\"     31     114728        27.0   \n",
       "3        \"Cullman County, AL\"     \"01043\"     19      82755  Unreliable   \n",
       "4         \"DeKalb County, AL\"     \"01049\"     26      71617        36.3   \n",
       "\n",
       "  Age Adjusted Rate  \n",
       "0              13.8  \n",
       "1        Unreliable  \n",
       "2              29.8  \n",
       "3        Unreliable  \n",
       "4              36.2  "
      ]
     },
     "execution_count": 79,
     "metadata": {},
     "output_type": "execute_result"
    }
   ],
   "source": [
    "county_df.head()"
   ]
  },
  {
   "cell_type": "code",
   "execution_count": 80,
   "metadata": {},
   "outputs": [],
   "source": [
    "county_df.County = county_df.County.apply(lambda x: x.strip().split(',')[0])"
   ]
  },
  {
   "cell_type": "code",
   "execution_count": 85,
   "metadata": {},
   "outputs": [],
   "source": [
    "county_df.County = county_df.County.apply(lambda x: x.split('\"')[-1])"
   ]
  },
  {
   "cell_type": "code",
   "execution_count": 88,
   "metadata": {},
   "outputs": [],
   "source": [
    "county_df = county_df.loc[~(county_df['Age Adjusted Rate']=='Unreliable')]"
   ]
  },
  {
   "cell_type": "code",
   "execution_count": 100,
   "metadata": {},
   "outputs": [],
   "source": [
    "# county_df.County = county_df.County.apply(lambda x : x.split('\"')[1])\n",
    "county_df.loc[:,'Age Adjusted Rate'] = county_df['Age Adjusted Rate'].apply(lambda x : float(x))"
   ]
  },
  {
   "cell_type": "code",
   "execution_count": 59,
   "metadata": {},
   "outputs": [],
   "source": [
    "county_df = county_df[['County','Age Adjusted Rate']]"
   ]
  },
  {
   "cell_type": "code",
   "execution_count": 60,
   "metadata": {},
   "outputs": [],
   "source": [
    "county_df.columns = ['county_name', 'AAR']"
   ]
  },
  {
   "cell_type": "code",
   "execution_count": 66,
   "metadata": {},
   "outputs": [],
   "source": [
    "%R -i county_df"
   ]
  },
  {
   "cell_type": "code",
   "execution_count": 68,
   "metadata": {
    "scrolled": true
   },
   "outputs": [
    {
     "name": "stdout",
     "output_type": "stream",
     "text": [
      "\u001b[90m# A tibble: 6 x 4\u001b[39m\n",
      "  fips  abbr  county         pop_2015\n",
      "  \u001b[3m\u001b[90m<chr>\u001b[39m\u001b[23m \u001b[3m\u001b[90m<chr>\u001b[39m\u001b[23m \u001b[3m\u001b[90m<chr>\u001b[39m\u001b[23m             \u001b[3m\u001b[90m<dbl>\u001b[39m\u001b[23m\n",
      "\u001b[90m1\u001b[39m 01001 AL    Autauga County    \u001b[4m5\u001b[24m\u001b[4m5\u001b[24m347\n",
      "\u001b[90m2\u001b[39m 01003 AL    Baldwin County   \u001b[4m2\u001b[24m\u001b[4m0\u001b[24m\u001b[4m3\u001b[24m709\n",
      "\u001b[90m3\u001b[39m 01005 AL    Barbour County    \u001b[4m2\u001b[24m\u001b[4m6\u001b[24m489\n",
      "\u001b[90m4\u001b[39m 01007 AL    Bibb County       \u001b[4m2\u001b[24m\u001b[4m2\u001b[24m583\n",
      "\u001b[90m5\u001b[39m 01009 AL    Blount County     \u001b[4m5\u001b[24m\u001b[4m7\u001b[24m673\n",
      "\u001b[90m6\u001b[39m 01011 AL    Bullock County    \u001b[4m1\u001b[24m\u001b[4m0\u001b[24m696\n"
     ]
    }
   ],
   "source": [
    "%%R\n",
    "head(countypop)"
   ]
  },
  {
   "cell_type": "code",
   "execution_count": 19,
   "metadata": {
    "hide_input": true
   },
   "outputs": [],
   "source": [
    "def color_func(value_in):\n",
    "    if value_in>40:\n",
    "        return '1'\n",
    "    elif 30<value_in<=40:\n",
    "        return '2'\n",
    "    elif 20<value_in<=30:\n",
    "        return '3'\n",
    "    elif 10<value_in<=20:\n",
    "        return '4'\n",
    "    else:\n",
    "        return '5'"
   ]
  },
  {
   "cell_type": "code",
   "execution_count": 69,
   "metadata": {},
   "outputs": [
    {
     "data": {
      "text/plain": [
       "array(['usmap', 'dplyr', 'maps', 'ggplot2', 'tools', 'stats', 'graphics',\n",
       "       'grDevices', 'utils', 'datasets', 'methods', 'base'], dtype='<U9')"
      ]
     },
     "execution_count": 69,
     "metadata": {},
     "output_type": "execute_result"
    }
   ],
   "source": [
    "%R library(usmap)"
   ]
  },
  {
   "cell_type": "code",
   "execution_count": 63,
   "metadata": {},
   "outputs": [
    {
     "name": "stdout",
     "output_type": "stream",
     "text": [
      "\u001b[90m# A tibble: 6 x 4\u001b[39m\n",
      "  fips  abbr  county         pop_2015\n",
      "  \u001b[3m\u001b[90m<chr>\u001b[39m\u001b[23m \u001b[3m\u001b[90m<chr>\u001b[39m\u001b[23m \u001b[3m\u001b[90m<chr>\u001b[39m\u001b[23m             \u001b[3m\u001b[90m<dbl>\u001b[39m\u001b[23m\n",
      "\u001b[90m1\u001b[39m 01001 AL    Autauga County    \u001b[4m5\u001b[24m\u001b[4m5\u001b[24m347\n",
      "\u001b[90m2\u001b[39m 01003 AL    Baldwin County   \u001b[4m2\u001b[24m\u001b[4m0\u001b[24m\u001b[4m3\u001b[24m709\n",
      "\u001b[90m3\u001b[39m 01005 AL    Barbour County    \u001b[4m2\u001b[24m\u001b[4m6\u001b[24m489\n",
      "\u001b[90m4\u001b[39m 01007 AL    Bibb County       \u001b[4m2\u001b[24m\u001b[4m2\u001b[24m583\n",
      "\u001b[90m5\u001b[39m 01009 AL    Blount County     \u001b[4m5\u001b[24m\u001b[4m7\u001b[24m673\n",
      "\u001b[90m6\u001b[39m 01011 AL    Bullock County    \u001b[4m1\u001b[24m\u001b[4m0\u001b[24m696\n"
     ]
    }
   ],
   "source": [
    "%%R\n",
    "\n",
    "head(countypop)"
   ]
  },
  {
   "cell_type": "code",
   "execution_count": 70,
   "metadata": {},
   "outputs": [
    {
     "name": "stdout",
     "output_type": "stream",
     "text": [
      "         county_name  AAR\n",
      "0    \"Baldwin County 13.8\n",
      "2    \"Calhoun County 29.8\n",
      "4     \"DeKalb County 36.2\n",
      "6     \"Etowah County 35.2\n",
      "8  \"Jefferson County 32.6\n",
      "11   \"Madison County 22.2\n"
     ]
    }
   ],
   "source": [
    "%%R\n",
    "head(county_df)"
   ]
  },
  {
   "cell_type": "code",
   "execution_count": 64,
   "metadata": {},
   "outputs": [],
   "source": [
    "%%R\n",
    "\n",
    "plot_df <- left_join(county_df , countypop , by=c('county_name'='county'))"
   ]
  },
  {
   "cell_type": "code",
   "execution_count": 26,
   "metadata": {},
   "outputs": [
    {
     "name": "stderr",
     "output_type": "stream",
     "text": [
      "R[write to console]: Error in match.arg(regions) : 'arg' must be NULL or a character vector\n",
      "Calls: <Anonymous> ... withVisible -> plot_usmap -> map_with_data -> us_map -> match.arg\n",
      "\n"
     ]
    },
    {
     "name": "stdout",
     "output_type": "stream",
     "text": [
      "\n",
      "Error in match.arg(regions) : 'arg' must be NULL or a character vector\n",
      "Calls: <Anonymous> ... withVisible -> plot_usmap -> map_with_data -> us_map -> match.arg\n"
     ]
    }
   ],
   "source": [
    "%%R -w 11 -h 11 --units in -r 200\n",
    "\n",
    "\n",
    "\n",
    "\n",
    "plot_usmap(data = plot_df, values = 'AAR',labels=TRUE) + \n",
    "\n",
    "  scale_fill_gradientn(name='Age Adj. Deaths per 100,000    \\n' , colours = c('#fee0d2' , '#fc9272' , '#de2d26') )  + \n",
    "  theme(legend.position='top',\n",
    "       legend.justification = c(1,1 ),\n",
    "       legend.text = element_text(color='black',size=15),\n",
    "       legend.title=element_text(color='black',size=15),legend.key.size = unit(2,\"line\"),\n",
    "       plot.title  = element_text(size=25)) + \n",
    "ggtitle('Most opioid overdose deaths in 2017 are near WV') \n",
    "\n",
    "# ggsave('/Users/nithish/Desktop/county_plot_v1.png')\n",
    "  "
   ]
  },
  {
   "cell_type": "code",
   "execution_count": null,
   "metadata": {},
   "outputs": [],
   "source": []
  },
  {
   "cell_type": "code",
   "execution_count": null,
   "metadata": {},
   "outputs": [],
   "source": []
  }
 ],
 "metadata": {
  "kernelspec": {
   "display_name": "Python 3",
   "language": "python",
   "name": "python3"
  },
  "language_info": {
   "codemirror_mode": {
    "name": "ipython",
    "version": 3
   },
   "file_extension": ".py",
   "mimetype": "text/x-python",
   "name": "python",
   "nbconvert_exporter": "python",
   "pygments_lexer": "ipython3",
   "version": "3.6.8"
  },
  "latex_envs": {
   "LaTeX_envs_menu_present": true,
   "autoclose": false,
   "autocomplete": true,
   "bibliofile": "biblio.bib",
   "cite_by": "apalike",
   "current_citInitial": 1,
   "eqLabelWithNumbers": true,
   "eqNumInitial": 1,
   "hotkeys": {
    "equation": "Ctrl-E",
    "itemize": "Ctrl-I"
   },
   "labels_anchors": false,
   "latex_user_defs": false,
   "report_style_numbering": false,
   "user_envs_cfg": false
  },
  "toc": {
   "base_numbering": 1,
   "nav_menu": {},
   "number_sections": true,
   "sideBar": true,
   "skip_h1_title": false,
   "title_cell": "Table of Contents",
   "title_sidebar": "Contents",
   "toc_cell": false,
   "toc_position": {},
   "toc_section_display": true,
   "toc_window_display": false
  }
 },
 "nbformat": 4,
 "nbformat_minor": 2
}
