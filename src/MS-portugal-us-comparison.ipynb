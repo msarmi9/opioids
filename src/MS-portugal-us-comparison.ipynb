{
 "cells": [
  {
   "cell_type": "markdown",
   "metadata": {},
   "source": [
    "**Author:** Matt Sarmiento"
   ]
  },
  {
   "cell_type": "markdown",
   "metadata": {
    "toc": true
   },
   "source": [
    "<h1>Table of Contents<span class=\"tocSkip\"></span></h1>\n",
    "<div class=\"toc\"><ul class=\"toc-item\"><li><span><a href=\"#Datasets-Description\" data-toc-modified-id=\"Datasets-Description-1\">Datasets Description</a></span></li><li><span><a href=\"#Data-Clean\" data-toc-modified-id=\"Data-Clean-2\">Data Clean</a></span><ul class=\"toc-item\"><li><span><a href=\"#EU-Deaths-1995-2017\" data-toc-modified-id=\"EU-Deaths-1995-2017-2.1\">EU Deaths 1995-2017</a></span><ul class=\"toc-item\"><li><span><a href=\"#Split-Data-by-Year\" data-toc-modified-id=\"Split-Data-by-Year-2.1.1\">Split Data by Year</a></span></li></ul></li><li><span><a href=\"#EU-Population-2015-2017\" data-toc-modified-id=\"EU-Population-2015-2017-2.2\">EU Population 2015-2017</a></span><ul class=\"toc-item\"><li><span><a href=\"#2017\" data-toc-modified-id=\"2017-2.2.1\">2017</a></span></li><li><span><a href=\"#2016\" data-toc-modified-id=\"2016-2.2.2\">2016</a></span></li><li><span><a href=\"#2015\" data-toc-modified-id=\"2015-2.2.3\">2015</a></span></li></ul></li><li><span><a href=\"#Join\" data-toc-modified-id=\"Join-2.3\">Join</a></span></li><li><span><a href=\"#Deaths-per-1-Million\" data-toc-modified-id=\"Deaths-per-1-Million-2.4\">Deaths per 1 Million</a></span></li><li><span><a href=\"#U.S.-Deaths-2017\" data-toc-modified-id=\"U.S.-Deaths-2017-2.5\">U.S. Deaths 2017</a></span></li><li><span><a href=\"#Concat\" data-toc-modified-id=\"Concat-2.6\">Concat</a></span></li></ul></li><li><span><a href=\"#Drop\" data-toc-modified-id=\"Drop-3\">Drop</a></span></li><li><span><a href=\"#Plot\" data-toc-modified-id=\"Plot-4\">Plot</a></span></li></ul></div>"
   ]
  },
  {
   "cell_type": "code",
   "execution_count": 1,
   "metadata": {},
   "outputs": [],
   "source": [
    "# Third-party imports\n",
    "import numpy as np\n",
    "import pandas as pd"
   ]
  },
  {
   "cell_type": "code",
   "execution_count": 19,
   "metadata": {},
   "outputs": [],
   "source": [
    "# Load rpy2 extension (may need to re-run)\n",
    "%reload_ext rpy2.ipython"
   ]
  },
  {
   "cell_type": "code",
   "execution_count": 20,
   "metadata": {},
   "outputs": [
    {
     "data": {
      "text/plain": [
       "array(['scales', 'ggplot2', 'tools', 'stats', 'graphics', 'grDevices',\n",
       "       'utils', 'datasets', 'methods', 'base'], dtype='<U9')"
      ]
     },
     "execution_count": 20,
     "metadata": {},
     "output_type": "execute_result"
    }
   ],
   "source": [
    "# Load R libraries\n",
    "%R library(ggplot2)\n",
    "%R library(scales)"
   ]
  },
  {
   "cell_type": "markdown",
   "metadata": {},
   "source": [
    "----------------"
   ]
  },
  {
   "cell_type": "markdown",
   "metadata": {},
   "source": [
    "# Datasets Description\n",
    "\n",
    "We want to compare the incidence of drug-induced deaths among the major EU countries with that of the U.S.. Specifically, we want to know what the drug-induced death rate is per million citizens in each country. For this we need the following datasets:\n",
    "\n",
    "1. `EU-overdoses-1995-2017`, which contains drug-induced death counts for **ages 16-54** per country.\n",
    "2. `EU-pop-2017`, which contains population counts for **ages 16-54** per EU country in 2017\n",
    "3. `EU-pop-2016`, which contains population counts for **ages 16-54** per EU country in 2016\n",
    "4. `EU-pop-2015`, which contains population counts for **ages 16-54** per EU country in 2015\n",
    "5. `deaths-ages-15-64-2017`, which contains drug-induced death rates for **ages 16-54** in the U.S in 2017\n",
    "\n",
    "Once we've cleaned them up, we'll produce a dataset for the drug-induced death rate per E.U. country."
   ]
  },
  {
   "cell_type": "markdown",
   "metadata": {},
   "source": [
    "----------------"
   ]
  },
  {
   "cell_type": "markdown",
   "metadata": {},
   "source": [
    "# Data Clean\n"
   ]
  },
  {
   "cell_type": "markdown",
   "metadata": {},
   "source": [
    "## EU Deaths 1995-2017\n",
    "\n",
    "First, let's take a look at we have. \n",
    "\n",
    "**Update:** After inspecting our dataset, we've re-loaded it with the correct row set as the header."
   ]
  },
  {
   "cell_type": "code",
   "execution_count": 2,
   "metadata": {},
   "outputs": [
    {
     "data": {
      "text/html": [
       "<div>\n",
       "<style scoped>\n",
       "    .dataframe tbody tr th:only-of-type {\n",
       "        vertical-align: middle;\n",
       "    }\n",
       "\n",
       "    .dataframe tbody tr th {\n",
       "        vertical-align: top;\n",
       "    }\n",
       "\n",
       "    .dataframe thead th {\n",
       "        text-align: right;\n",
       "    }\n",
       "</style>\n",
       "<table border=\"1\" class=\"dataframe\">\n",
       "  <thead>\n",
       "    <tr style=\"text-align: right;\">\n",
       "      <th></th>\n",
       "      <th>Country</th>\n",
       "      <th>2017</th>\n",
       "      <th>2016</th>\n",
       "      <th>2015</th>\n",
       "      <th>2014</th>\n",
       "      <th>2013</th>\n",
       "      <th>2012</th>\n",
       "      <th>2011</th>\n",
       "      <th>2010</th>\n",
       "      <th>2009</th>\n",
       "      <th>...</th>\n",
       "      <th>2003</th>\n",
       "      <th>2002</th>\n",
       "      <th>2001</th>\n",
       "      <th>2000</th>\n",
       "      <th>1999</th>\n",
       "      <th>1998</th>\n",
       "      <th>1997</th>\n",
       "      <th>1996</th>\n",
       "      <th>1995</th>\n",
       "      <th>Unnamed: 24</th>\n",
       "    </tr>\n",
       "  </thead>\n",
       "  <tbody>\n",
       "    <tr>\n",
       "      <td>0</td>\n",
       "      <td>Austria *</td>\n",
       "      <td>107.0</td>\n",
       "      <td>122.0</td>\n",
       "      <td>150.0</td>\n",
       "      <td>139.0</td>\n",
       "      <td>194.0</td>\n",
       "      <td>221.0</td>\n",
       "      <td>237.0</td>\n",
       "      <td>207.0</td>\n",
       "      <td>223.0</td>\n",
       "      <td>...</td>\n",
       "      <td>192.0</td>\n",
       "      <td>84.0</td>\n",
       "      <td>153.0</td>\n",
       "      <td>167.0</td>\n",
       "      <td>135.0</td>\n",
       "      <td>119.0</td>\n",
       "      <td>NaN</td>\n",
       "      <td>NaN</td>\n",
       "      <td>NaN</td>\n",
       "      <td>NaN</td>\n",
       "    </tr>\n",
       "    <tr>\n",
       "      <td>1</td>\n",
       "      <td>Belgium</td>\n",
       "      <td>NaN</td>\n",
       "      <td>NaN</td>\n",
       "      <td>NaN</td>\n",
       "      <td>61.0</td>\n",
       "      <td>74.0</td>\n",
       "      <td>72.0</td>\n",
       "      <td>94.0</td>\n",
       "      <td>106.0</td>\n",
       "      <td>155.0</td>\n",
       "      <td>...</td>\n",
       "      <td>97.0</td>\n",
       "      <td>NaN</td>\n",
       "      <td>NaN</td>\n",
       "      <td>NaN</td>\n",
       "      <td>113.0</td>\n",
       "      <td>48.0</td>\n",
       "      <td>123.0</td>\n",
       "      <td>137.0</td>\n",
       "      <td>132.0</td>\n",
       "      <td>NaN</td>\n",
       "    </tr>\n",
       "    <tr>\n",
       "      <td>2</td>\n",
       "      <td>Bulgaria</td>\n",
       "      <td>18.0</td>\n",
       "      <td>22.0</td>\n",
       "      <td>17.0</td>\n",
       "      <td>15.0</td>\n",
       "      <td>21.0</td>\n",
       "      <td>24.0</td>\n",
       "      <td>25.0</td>\n",
       "      <td>41.0</td>\n",
       "      <td>38.0</td>\n",
       "      <td>...</td>\n",
       "      <td>15.0</td>\n",
       "      <td>13.0</td>\n",
       "      <td>24.0</td>\n",
       "      <td>41.0</td>\n",
       "      <td>28.0</td>\n",
       "      <td>21.0</td>\n",
       "      <td>16.0</td>\n",
       "      <td>11.0</td>\n",
       "      <td>19.0</td>\n",
       "      <td>NaN</td>\n",
       "    </tr>\n",
       "  </tbody>\n",
       "</table>\n",
       "<p>3 rows × 25 columns</p>\n",
       "</div>"
      ],
      "text/plain": [
       "     Country   2017   2016   2015   2014   2013   2012   2011   2010   2009  \\\n",
       "0  Austria *  107.0  122.0  150.0  139.0  194.0  221.0  237.0  207.0  223.0   \n",
       "1    Belgium    NaN    NaN    NaN   61.0   74.0   72.0   94.0  106.0  155.0   \n",
       "2   Bulgaria   18.0   22.0   17.0   15.0   21.0   24.0   25.0   41.0   38.0   \n",
       "\n",
       "   ...   2003  2002   2001   2000   1999   1998   1997   1996   1995  \\\n",
       "0  ...  192.0  84.0  153.0  167.0  135.0  119.0    NaN    NaN    NaN   \n",
       "1  ...   97.0   NaN    NaN    NaN  113.0   48.0  123.0  137.0  132.0   \n",
       "2  ...   15.0  13.0   24.0   41.0   28.0   21.0   16.0   11.0   19.0   \n",
       "\n",
       "   Unnamed: 24  \n",
       "0          NaN  \n",
       "1          NaN  \n",
       "2          NaN  \n",
       "\n",
       "[3 rows x 25 columns]"
      ]
     },
     "execution_count": 2,
     "metadata": {},
     "output_type": "execute_result"
    }
   ],
   "source": [
    "# Load data with correct row as header\n",
    "EU = pd.read_csv('../input/EU-overdoses-1995-2017.csv', header=3)\n",
    "EU.head(3)"
   ]
  },
  {
   "cell_type": "markdown",
   "metadata": {},
   "source": [
    "### Split Data by Year\n",
    "\n",
    "Since not all countries have reported overdose counts for 2017, we will split our data frame into three:\n",
    "1. Countries with counts for 2017\n",
    "2. Countries with counts for 2016 (but not 2017)\n",
    "3. Countries with counts for 2015 (but not 2016-17)\n",
    "\n",
    "Moreover, for each dataset we'll\n",
    "* Keep only the Country and Year columns\n",
    "* Rename the Year column to \"Deaths\"\n",
    "* **Update:** Annoyingly, certain countries have asterisks `*` next to them to mark footnotes, e.g. `Austria *`. We need to strip these asterisks in order to join on Country name later on."
   ]
  },
  {
   "cell_type": "code",
   "execution_count": 3,
   "metadata": {
    "scrolled": true
   },
   "outputs": [
    {
     "data": {
      "text/html": [
       "<div>\n",
       "<style scoped>\n",
       "    .dataframe tbody tr th:only-of-type {\n",
       "        vertical-align: middle;\n",
       "    }\n",
       "\n",
       "    .dataframe tbody tr th {\n",
       "        vertical-align: top;\n",
       "    }\n",
       "\n",
       "    .dataframe thead th {\n",
       "        text-align: right;\n",
       "    }\n",
       "</style>\n",
       "<table border=\"1\" class=\"dataframe\">\n",
       "  <thead>\n",
       "    <tr style=\"text-align: right;\">\n",
       "      <th></th>\n",
       "      <th>Country</th>\n",
       "      <th>Deaths</th>\n",
       "    </tr>\n",
       "  </thead>\n",
       "  <tbody>\n",
       "    <tr>\n",
       "      <td>0</td>\n",
       "      <td>Austria</td>\n",
       "      <td>107.0</td>\n",
       "    </tr>\n",
       "    <tr>\n",
       "      <td>2</td>\n",
       "      <td>Bulgaria</td>\n",
       "      <td>18.0</td>\n",
       "    </tr>\n",
       "    <tr>\n",
       "      <td>3</td>\n",
       "      <td>Croatia</td>\n",
       "      <td>65.0</td>\n",
       "    </tr>\n",
       "  </tbody>\n",
       "</table>\n",
       "</div>"
      ],
      "text/plain": [
       "    Country  Deaths\n",
       "0   Austria   107.0\n",
       "2  Bulgaria    18.0\n",
       "3   Croatia    65.0"
      ]
     },
     "execution_count": 3,
     "metadata": {},
     "output_type": "execute_result"
    }
   ],
   "source": [
    "# 2017\n",
    "EU2017 = EU.loc[EU['2017'].isna() == False]\n",
    "EU2017 = EU2017[['Country', '2017']]\n",
    "EU2017.columns = ['Country', 'Deaths']\n",
    "EU2017['Country'] = EU2017.Country.apply(lambda name: name.rstrip(' *'))\n",
    "\n",
    "# 2016\n",
    "EU2016 = (EU.loc[(EU['2016'].isna() == False) & \n",
    "                 (EU['2017'].isna() == True)])\n",
    "EU2016 = EU2016[['Country', '2016']]\n",
    "EU2016.columns = ['Country', 'Deaths']\n",
    "EU2016['Country'] = EU2016.Country.apply(lambda name: name.rstrip(' *'))\n",
    "\n",
    "# 2015\n",
    "EU2015 = (EU.loc[(EU['2015'].isna() == False) &\n",
    "                 (EU['2016'].isna() == True) &\n",
    "                 (EU['2017'].isna() == True)])\n",
    "EU2015 = EU2015[['Country', '2015']]\n",
    "EU2015.columns = ['Country', 'Deaths']\n",
    "EU2015['Country'] = EU2015.Country.apply(lambda name: name.rstrip(' *'))\n",
    "\n",
    "EU2017.head(3)"
   ]
  },
  {
   "cell_type": "markdown",
   "metadata": {},
   "source": [
    "## EU Population 2015-2017\n",
    "\n",
    "We need to tidy things up so that we can join our population datasets with our overdose count datasets. Specifically, for each dataset we need to:\n",
    "1. Rename the \"Country Code\" column to \"Country\" (which is the column we'll join on)\n",
    "2. Rename the population code column to \"Population\" \n",
    "3. Add a column for Year (for bookkeeping purposes)\n"
   ]
  },
  {
   "cell_type": "markdown",
   "metadata": {},
   "source": [
    "### 2017"
   ]
  },
  {
   "cell_type": "code",
   "execution_count": 4,
   "metadata": {
    "scrolled": true
   },
   "outputs": [
    {
     "data": {
      "text/html": [
       "<div>\n",
       "<style scoped>\n",
       "    .dataframe tbody tr th:only-of-type {\n",
       "        vertical-align: middle;\n",
       "    }\n",
       "\n",
       "    .dataframe tbody tr th {\n",
       "        vertical-align: top;\n",
       "    }\n",
       "\n",
       "    .dataframe thead th {\n",
       "        text-align: right;\n",
       "    }\n",
       "</style>\n",
       "<table border=\"1\" class=\"dataframe\">\n",
       "  <thead>\n",
       "    <tr style=\"text-align: right;\">\n",
       "      <th></th>\n",
       "      <th>Series Name</th>\n",
       "      <th>Series Code</th>\n",
       "      <th>Country Name</th>\n",
       "      <th>Country Code</th>\n",
       "      <th>2017 [YR2017]</th>\n",
       "    </tr>\n",
       "  </thead>\n",
       "  <tbody>\n",
       "    <tr>\n",
       "      <td>0</td>\n",
       "      <td>Population ages 15-64, total</td>\n",
       "      <td>SP.POP.1564.TO</td>\n",
       "      <td>Sweden</td>\n",
       "      <td>SWE</td>\n",
       "      <td>6287411.0</td>\n",
       "    </tr>\n",
       "    <tr>\n",
       "      <td>1</td>\n",
       "      <td>Population ages 15-64, total</td>\n",
       "      <td>SP.POP.1564.TO</td>\n",
       "      <td>Netherlands</td>\n",
       "      <td>NLD</td>\n",
       "      <td>11110457.0</td>\n",
       "    </tr>\n",
       "    <tr>\n",
       "      <td>2</td>\n",
       "      <td>Population ages 15-64, total</td>\n",
       "      <td>SP.POP.1564.TO</td>\n",
       "      <td>Finland</td>\n",
       "      <td>FIN</td>\n",
       "      <td>3440986.0</td>\n",
       "    </tr>\n",
       "  </tbody>\n",
       "</table>\n",
       "</div>"
      ],
      "text/plain": [
       "                    Series Name     Series Code Country Name Country Code  \\\n",
       "0  Population ages 15-64, total  SP.POP.1564.TO       Sweden          SWE   \n",
       "1  Population ages 15-64, total  SP.POP.1564.TO  Netherlands          NLD   \n",
       "2  Population ages 15-64, total  SP.POP.1564.TO      Finland          FIN   \n",
       "\n",
       "   2017 [YR2017]  \n",
       "0      6287411.0  \n",
       "1     11110457.0  \n",
       "2      3440986.0  "
      ]
     },
     "execution_count": 4,
     "metadata": {},
     "output_type": "execute_result"
    }
   ],
   "source": [
    "# Load data\n",
    "pop2017 = pd.read_csv('../input/EU-pop-2017.csv')\n",
    "pop2017.head(3)"
   ]
  },
  {
   "cell_type": "code",
   "execution_count": 5,
   "metadata": {},
   "outputs": [
    {
     "data": {
      "text/html": [
       "<div>\n",
       "<style scoped>\n",
       "    .dataframe tbody tr th:only-of-type {\n",
       "        vertical-align: middle;\n",
       "    }\n",
       "\n",
       "    .dataframe tbody tr th {\n",
       "        vertical-align: top;\n",
       "    }\n",
       "\n",
       "    .dataframe thead th {\n",
       "        text-align: right;\n",
       "    }\n",
       "</style>\n",
       "<table border=\"1\" class=\"dataframe\">\n",
       "  <thead>\n",
       "    <tr style=\"text-align: right;\">\n",
       "      <th></th>\n",
       "      <th>Country</th>\n",
       "      <th>Pop</th>\n",
       "      <th>Year</th>\n",
       "    </tr>\n",
       "  </thead>\n",
       "  <tbody>\n",
       "    <tr>\n",
       "      <td>0</td>\n",
       "      <td>Sweden</td>\n",
       "      <td>6287411.0</td>\n",
       "      <td>2017</td>\n",
       "    </tr>\n",
       "    <tr>\n",
       "      <td>1</td>\n",
       "      <td>Netherlands</td>\n",
       "      <td>11110457.0</td>\n",
       "      <td>2017</td>\n",
       "    </tr>\n",
       "    <tr>\n",
       "      <td>2</td>\n",
       "      <td>Finland</td>\n",
       "      <td>3440986.0</td>\n",
       "      <td>2017</td>\n",
       "    </tr>\n",
       "  </tbody>\n",
       "</table>\n",
       "</div>"
      ],
      "text/plain": [
       "       Country         Pop  Year\n",
       "0       Sweden   6287411.0  2017\n",
       "1  Netherlands  11110457.0  2017\n",
       "2      Finland   3440986.0  2017"
      ]
     },
     "execution_count": 5,
     "metadata": {},
     "output_type": "execute_result"
    }
   ],
   "source": [
    "# Select cols we want\n",
    "pop2017 = pop2017[['Country Name', '2017 [YR2017]']]\n",
    "\n",
    "# Rename cols\n",
    "pop2017.columns = [\"Country\", \"Pop\"]\n",
    "\n",
    "# Add col for year\n",
    "pop2017['Year'] = 2017\n",
    "pop2017.head(3)"
   ]
  },
  {
   "cell_type": "markdown",
   "metadata": {},
   "source": [
    "### 2016"
   ]
  },
  {
   "cell_type": "code",
   "execution_count": 6,
   "metadata": {
    "scrolled": true
   },
   "outputs": [
    {
     "data": {
      "text/html": [
       "<div>\n",
       "<style scoped>\n",
       "    .dataframe tbody tr th:only-of-type {\n",
       "        vertical-align: middle;\n",
       "    }\n",
       "\n",
       "    .dataframe tbody tr th {\n",
       "        vertical-align: top;\n",
       "    }\n",
       "\n",
       "    .dataframe thead th {\n",
       "        text-align: right;\n",
       "    }\n",
       "</style>\n",
       "<table border=\"1\" class=\"dataframe\">\n",
       "  <thead>\n",
       "    <tr style=\"text-align: right;\">\n",
       "      <th></th>\n",
       "      <th>Series Name</th>\n",
       "      <th>Series Code</th>\n",
       "      <th>Country Name</th>\n",
       "      <th>Country Code</th>\n",
       "      <th>2016 [YR2016]</th>\n",
       "    </tr>\n",
       "  </thead>\n",
       "  <tbody>\n",
       "    <tr>\n",
       "      <td>0</td>\n",
       "      <td>Population ages 15-64, total</td>\n",
       "      <td>SP.POP.1564.TO</td>\n",
       "      <td>United Kingdom</td>\n",
       "      <td>GBR</td>\n",
       "      <td>42146414.0</td>\n",
       "    </tr>\n",
       "    <tr>\n",
       "      <td>1</td>\n",
       "      <td>Population ages 15-64, total</td>\n",
       "      <td>SP.POP.1564.TO</td>\n",
       "      <td>Norway</td>\n",
       "      <td>NOR</td>\n",
       "      <td>3434052.0</td>\n",
       "    </tr>\n",
       "    <tr>\n",
       "      <td>2</td>\n",
       "      <td>Population ages 15-64, total</td>\n",
       "      <td>SP.POP.1564.TO</td>\n",
       "      <td>Denmark</td>\n",
       "      <td>DNK</td>\n",
       "      <td>3664797.0</td>\n",
       "    </tr>\n",
       "  </tbody>\n",
       "</table>\n",
       "</div>"
      ],
      "text/plain": [
       "                    Series Name     Series Code    Country Name Country Code  \\\n",
       "0  Population ages 15-64, total  SP.POP.1564.TO  United Kingdom          GBR   \n",
       "1  Population ages 15-64, total  SP.POP.1564.TO          Norway          NOR   \n",
       "2  Population ages 15-64, total  SP.POP.1564.TO         Denmark          DNK   \n",
       "\n",
       "   2016 [YR2016]  \n",
       "0     42146414.0  \n",
       "1      3434052.0  \n",
       "2      3664797.0  "
      ]
     },
     "execution_count": 6,
     "metadata": {},
     "output_type": "execute_result"
    }
   ],
   "source": [
    "# Load data\n",
    "pop2016 = pd.read_csv('../input/EU-pop-2016.csv')\n",
    "pop2016.head(3)"
   ]
  },
  {
   "cell_type": "code",
   "execution_count": 7,
   "metadata": {},
   "outputs": [],
   "source": [
    "# Select cols we want\n",
    "pop2016 = pop2016[['Country Name', '2016 [YR2016]']]\n",
    "\n",
    "# Rename cols\n",
    "pop2016.columns = [\"Country\", \"Pop\"]\n",
    "\n",
    "# Add col for year\n",
    "pop2016['Year'] = 2016"
   ]
  },
  {
   "cell_type": "markdown",
   "metadata": {
    "heading_collapsed": true
   },
   "source": [
    "### 2015"
   ]
  },
  {
   "cell_type": "code",
   "execution_count": 8,
   "metadata": {
    "hidden": true
   },
   "outputs": [
    {
     "data": {
      "text/html": [
       "<div>\n",
       "<style scoped>\n",
       "    .dataframe tbody tr th:only-of-type {\n",
       "        vertical-align: middle;\n",
       "    }\n",
       "\n",
       "    .dataframe tbody tr th {\n",
       "        vertical-align: top;\n",
       "    }\n",
       "\n",
       "    .dataframe thead th {\n",
       "        text-align: right;\n",
       "    }\n",
       "</style>\n",
       "<table border=\"1\" class=\"dataframe\">\n",
       "  <thead>\n",
       "    <tr style=\"text-align: right;\">\n",
       "      <th></th>\n",
       "      <th>Series Name</th>\n",
       "      <th>Series Code</th>\n",
       "      <th>Country Name</th>\n",
       "      <th>Country Code</th>\n",
       "      <th>2015 [YR2015]</th>\n",
       "    </tr>\n",
       "  </thead>\n",
       "  <tbody>\n",
       "    <tr>\n",
       "      <td>0</td>\n",
       "      <td>Population ages 15-64, total</td>\n",
       "      <td>SP.POP.1564.TO</td>\n",
       "      <td>France</td>\n",
       "      <td>FRA</td>\n",
       "      <td>41798307.0</td>\n",
       "    </tr>\n",
       "  </tbody>\n",
       "</table>\n",
       "</div>"
      ],
      "text/plain": [
       "                    Series Name     Series Code Country Name Country Code  \\\n",
       "0  Population ages 15-64, total  SP.POP.1564.TO       France          FRA   \n",
       "\n",
       "   2015 [YR2015]  \n",
       "0     41798307.0  "
      ]
     },
     "execution_count": 8,
     "metadata": {},
     "output_type": "execute_result"
    }
   ],
   "source": [
    "# Load data\n",
    "pop2015 = pd.read_csv('../input/EU-pop-2015.csv')\n",
    "pop2015.head(1)"
   ]
  },
  {
   "cell_type": "code",
   "execution_count": 9,
   "metadata": {
    "hidden": true
   },
   "outputs": [
    {
     "data": {
      "text/html": [
       "<div>\n",
       "<style scoped>\n",
       "    .dataframe tbody tr th:only-of-type {\n",
       "        vertical-align: middle;\n",
       "    }\n",
       "\n",
       "    .dataframe tbody tr th {\n",
       "        vertical-align: top;\n",
       "    }\n",
       "\n",
       "    .dataframe thead th {\n",
       "        text-align: right;\n",
       "    }\n",
       "</style>\n",
       "<table border=\"1\" class=\"dataframe\">\n",
       "  <thead>\n",
       "    <tr style=\"text-align: right;\">\n",
       "      <th></th>\n",
       "      <th>Country</th>\n",
       "      <th>Pop</th>\n",
       "      <th>Year</th>\n",
       "    </tr>\n",
       "  </thead>\n",
       "  <tbody>\n",
       "    <tr>\n",
       "      <td>0</td>\n",
       "      <td>France</td>\n",
       "      <td>41798307.0</td>\n",
       "      <td>2015</td>\n",
       "    </tr>\n",
       "    <tr>\n",
       "      <td>1</td>\n",
       "      <td>Italy</td>\n",
       "      <td>39071616.0</td>\n",
       "      <td>2015</td>\n",
       "    </tr>\n",
       "    <tr>\n",
       "      <td>2</td>\n",
       "      <td>Germany</td>\n",
       "      <td>53557394.0</td>\n",
       "      <td>2015</td>\n",
       "    </tr>\n",
       "  </tbody>\n",
       "</table>\n",
       "</div>"
      ],
      "text/plain": [
       "   Country         Pop  Year\n",
       "0   France  41798307.0  2015\n",
       "1    Italy  39071616.0  2015\n",
       "2  Germany  53557394.0  2015"
      ]
     },
     "execution_count": 9,
     "metadata": {},
     "output_type": "execute_result"
    }
   ],
   "source": [
    "# Select cols we want\n",
    "pop2015 = pop2015[['Country Name', '2015 [YR2015]']]\n",
    "\n",
    "# Rename cols\n",
    "pop2015.columns = [\"Country\", \"Pop\"]\n",
    "\n",
    "# Add col for year\n",
    "pop2015['Year'] = 2015\n",
    "pop2015.head(3)"
   ]
  },
  {
   "cell_type": "markdown",
   "metadata": {},
   "source": [
    "## Join\n",
    "\n",
    "Now we'll merge each dataset `EU20##` with its corresponding population dataset `pop20##`, to get a grand total of three datasets:\n",
    "* `EU2017`\n",
    "* `EU2016`\n",
    "* `EU2015`"
   ]
  },
  {
   "cell_type": "code",
   "execution_count": 10,
   "metadata": {},
   "outputs": [
    {
     "data": {
      "text/html": [
       "<div>\n",
       "<style scoped>\n",
       "    .dataframe tbody tr th:only-of-type {\n",
       "        vertical-align: middle;\n",
       "    }\n",
       "\n",
       "    .dataframe tbody tr th {\n",
       "        vertical-align: top;\n",
       "    }\n",
       "\n",
       "    .dataframe thead th {\n",
       "        text-align: right;\n",
       "    }\n",
       "</style>\n",
       "<table border=\"1\" class=\"dataframe\">\n",
       "  <thead>\n",
       "    <tr style=\"text-align: right;\">\n",
       "      <th></th>\n",
       "      <th>Country</th>\n",
       "      <th>Deaths</th>\n",
       "      <th>Pop</th>\n",
       "      <th>Year</th>\n",
       "    </tr>\n",
       "  </thead>\n",
       "  <tbody>\n",
       "    <tr>\n",
       "      <td>0</td>\n",
       "      <td>France</td>\n",
       "      <td>373.0</td>\n",
       "      <td>41798307.0</td>\n",
       "      <td>2015</td>\n",
       "    </tr>\n",
       "    <tr>\n",
       "      <td>1</td>\n",
       "      <td>Germany</td>\n",
       "      <td>1306.0</td>\n",
       "      <td>53557394.0</td>\n",
       "      <td>2015</td>\n",
       "    </tr>\n",
       "    <tr>\n",
       "      <td>2</td>\n",
       "      <td>Italy</td>\n",
       "      <td>251.0</td>\n",
       "      <td>39071616.0</td>\n",
       "      <td>2015</td>\n",
       "    </tr>\n",
       "  </tbody>\n",
       "</table>\n",
       "</div>"
      ],
      "text/plain": [
       "   Country  Deaths         Pop  Year\n",
       "0   France   373.0  41798307.0  2015\n",
       "1  Germany  1306.0  53557394.0  2015\n",
       "2    Italy   251.0  39071616.0  2015"
      ]
     },
     "execution_count": 10,
     "metadata": {},
     "output_type": "execute_result"
    }
   ],
   "source": [
    "# 2017 merge\n",
    "EU2017 = EU2017.merge(pop2017, on=\"Country\")\n",
    "\n",
    "# 2016 merge\n",
    "EU2016 = EU2016.merge(pop2016, on=\"Country\")\n",
    "\n",
    "# 2015 merge\n",
    "EU2015 = EU2015.merge(pop2015, on=\"Country\")\n",
    "EU2015.head(3)"
   ]
  },
  {
   "cell_type": "code",
   "execution_count": 542,
   "metadata": {},
   "outputs": [
    {
     "data": {
      "text/html": [
       "<div>\n",
       "<style scoped>\n",
       "    .dataframe tbody tr th:only-of-type {\n",
       "        vertical-align: middle;\n",
       "    }\n",
       "\n",
       "    .dataframe tbody tr th {\n",
       "        vertical-align: top;\n",
       "    }\n",
       "\n",
       "    .dataframe thead th {\n",
       "        text-align: right;\n",
       "    }\n",
       "</style>\n",
       "<table border=\"1\" class=\"dataframe\">\n",
       "  <thead>\n",
       "    <tr style=\"text-align: right;\">\n",
       "      <th></th>\n",
       "      <th>Country</th>\n",
       "      <th>Deaths</th>\n",
       "      <th>Pop</th>\n",
       "      <th>Year</th>\n",
       "      <th>Pop (millions)</th>\n",
       "      <th>Rate</th>\n",
       "    </tr>\n",
       "  </thead>\n",
       "  <tbody>\n",
       "    <tr>\n",
       "      <td>0</td>\n",
       "      <td>Denmark</td>\n",
       "      <td>237.0</td>\n",
       "      <td>3664797.0</td>\n",
       "      <td>2016</td>\n",
       "      <td>3.664797</td>\n",
       "      <td>65.0</td>\n",
       "    </tr>\n",
       "    <tr>\n",
       "      <td>1</td>\n",
       "      <td>Norway</td>\n",
       "      <td>282.0</td>\n",
       "      <td>3434052.0</td>\n",
       "      <td>2016</td>\n",
       "      <td>3.434052</td>\n",
       "      <td>82.0</td>\n",
       "    </tr>\n",
       "    <tr>\n",
       "      <td>2</td>\n",
       "      <td>Portugal</td>\n",
       "      <td>30.0</td>\n",
       "      <td>6707573.0</td>\n",
       "      <td>2016</td>\n",
       "      <td>6.707573</td>\n",
       "      <td>4.0</td>\n",
       "    </tr>\n",
       "    <tr>\n",
       "      <td>3</td>\n",
       "      <td>Spain</td>\n",
       "      <td>154.0</td>\n",
       "      <td>30829794.0</td>\n",
       "      <td>2016</td>\n",
       "      <td>30.829794</td>\n",
       "      <td>5.0</td>\n",
       "    </tr>\n",
       "    <tr>\n",
       "      <td>4</td>\n",
       "      <td>United Kingdom</td>\n",
       "      <td>3256.0</td>\n",
       "      <td>42146414.0</td>\n",
       "      <td>2016</td>\n",
       "      <td>42.146414</td>\n",
       "      <td>77.0</td>\n",
       "    </tr>\n",
       "  </tbody>\n",
       "</table>\n",
       "</div>"
      ],
      "text/plain": [
       "          Country  Deaths         Pop  Year  Pop (millions)  Rate\n",
       "0         Denmark   237.0   3664797.0  2016        3.664797  65.0\n",
       "1          Norway   282.0   3434052.0  2016        3.434052  82.0\n",
       "2        Portugal    30.0   6707573.0  2016        6.707573   4.0\n",
       "3           Spain   154.0  30829794.0  2016       30.829794   5.0\n",
       "4  United Kingdom  3256.0  42146414.0  2016       42.146414  77.0"
      ]
     },
     "execution_count": 542,
     "metadata": {},
     "output_type": "execute_result"
    }
   ],
   "source": [
    "EU2016"
   ]
  },
  {
   "cell_type": "markdown",
   "metadata": {},
   "source": [
    "## Deaths per 1 Million\n",
    "\n",
    "We're nearly there. The last thing left to do is to get the overdose rate per 1 million for each country. For each dataset we need to:\n",
    "1. Convert the Population units to millions\n",
    "2. Divide the Overdose count by the Population (in millions) to get the overdose death rate.\n",
    "\n",
    "We've also decided to round rates to the nearest integer, for ease of interpretation (e.g. 8 deaths per 1 million instead of 8.3 deaths per 1 million)"
   ]
  },
  {
   "cell_type": "code",
   "execution_count": 11,
   "metadata": {},
   "outputs": [
    {
     "data": {
      "text/html": [
       "<div>\n",
       "<style scoped>\n",
       "    .dataframe tbody tr th:only-of-type {\n",
       "        vertical-align: middle;\n",
       "    }\n",
       "\n",
       "    .dataframe tbody tr th {\n",
       "        vertical-align: top;\n",
       "    }\n",
       "\n",
       "    .dataframe thead th {\n",
       "        text-align: right;\n",
       "    }\n",
       "</style>\n",
       "<table border=\"1\" class=\"dataframe\">\n",
       "  <thead>\n",
       "    <tr style=\"text-align: right;\">\n",
       "      <th></th>\n",
       "      <th>Country</th>\n",
       "      <th>Deaths</th>\n",
       "      <th>Pop</th>\n",
       "      <th>Year</th>\n",
       "      <th>Pop (millions)</th>\n",
       "      <th>Rate</th>\n",
       "    </tr>\n",
       "  </thead>\n",
       "  <tbody>\n",
       "    <tr>\n",
       "      <td>0</td>\n",
       "      <td>France</td>\n",
       "      <td>373.0</td>\n",
       "      <td>41798307.0</td>\n",
       "      <td>2015</td>\n",
       "      <td>41.798307</td>\n",
       "      <td>9.0</td>\n",
       "    </tr>\n",
       "    <tr>\n",
       "      <td>1</td>\n",
       "      <td>Germany</td>\n",
       "      <td>1306.0</td>\n",
       "      <td>53557394.0</td>\n",
       "      <td>2015</td>\n",
       "      <td>53.557394</td>\n",
       "      <td>24.0</td>\n",
       "    </tr>\n",
       "    <tr>\n",
       "      <td>2</td>\n",
       "      <td>Italy</td>\n",
       "      <td>251.0</td>\n",
       "      <td>39071616.0</td>\n",
       "      <td>2015</td>\n",
       "      <td>39.071616</td>\n",
       "      <td>6.0</td>\n",
       "    </tr>\n",
       "  </tbody>\n",
       "</table>\n",
       "</div>"
      ],
      "text/plain": [
       "   Country  Deaths         Pop  Year  Pop (millions)  Rate\n",
       "0   France   373.0  41798307.0  2015       41.798307   9.0\n",
       "1  Germany  1306.0  53557394.0  2015       53.557394  24.0\n",
       "2    Italy   251.0  39071616.0  2015       39.071616   6.0"
      ]
     },
     "execution_count": 11,
     "metadata": {},
     "output_type": "execute_result"
    }
   ],
   "source": [
    "# 2017\n",
    "EU2017['Pop (millions)'] = EU2017['Pop'] / 1_000_000\n",
    "EU2017['Rate'] =  np.round(EU2017['Deaths'] / EU2017['Pop (millions)'], 0)\n",
    "\n",
    "# 2016\n",
    "EU2016['Pop (millions)'] = EU2016['Pop'] / 1_000_000\n",
    "EU2016['Rate'] =  np.round(EU2016['Deaths'] / EU2016['Pop (millions)'], 0)\n",
    "\n",
    "# 2015\n",
    "EU2015['Pop (millions)'] = EU2015['Pop'] / 1_000_000\n",
    "EU2015['Rate'] =  np.round(EU2015['Deaths'] / EU2015['Pop (millions)'], 0)\n",
    "\n",
    "EU2015.head(3)"
   ]
  },
  {
   "cell_type": "markdown",
   "metadata": {},
   "source": [
    "## U.S. Deaths 2017\n",
    "\n",
    "To concatenate our US dataset with our EU datasets, we need to:\n",
    "1. Add a \"Country\" column\n",
    "2. Convert the Crude Rate from deaths per 100,000 (default) to deaths per 1 million.\n",
    "3. Rename the \"Crude Rate\" column to \"Rate\" \n"
   ]
  },
  {
   "cell_type": "code",
   "execution_count": 12,
   "metadata": {},
   "outputs": [
    {
     "data": {
      "text/html": [
       "<div>\n",
       "<style scoped>\n",
       "    .dataframe tbody tr th:only-of-type {\n",
       "        vertical-align: middle;\n",
       "    }\n",
       "\n",
       "    .dataframe tbody tr th {\n",
       "        vertical-align: top;\n",
       "    }\n",
       "\n",
       "    .dataframe thead th {\n",
       "        text-align: right;\n",
       "    }\n",
       "</style>\n",
       "<table border=\"1\" class=\"dataframe\">\n",
       "  <thead>\n",
       "    <tr style=\"text-align: right;\">\n",
       "      <th></th>\n",
       "      <th>Notes</th>\n",
       "      <th>Year</th>\n",
       "      <th>Year Code</th>\n",
       "      <th>Deaths</th>\n",
       "      <th>Population</th>\n",
       "      <th>Crude Rate</th>\n",
       "      <th>Age Adjusted Rate</th>\n",
       "    </tr>\n",
       "  </thead>\n",
       "  <tbody>\n",
       "    <tr>\n",
       "      <td>0</td>\n",
       "      <td>NaN</td>\n",
       "      <td>2017.0</td>\n",
       "      <td>2017.0</td>\n",
       "      <td>66547.0</td>\n",
       "      <td>213838947.0</td>\n",
       "      <td>31.1</td>\n",
       "      <td>31.6</td>\n",
       "    </tr>\n",
       "  </tbody>\n",
       "</table>\n",
       "</div>"
      ],
      "text/plain": [
       "  Notes    Year  Year Code   Deaths   Population  Crude Rate  \\\n",
       "0   NaN  2017.0     2017.0  66547.0  213838947.0        31.1   \n",
       "\n",
       "   Age Adjusted Rate  \n",
       "0               31.6  "
      ]
     },
     "execution_count": 12,
     "metadata": {},
     "output_type": "execute_result"
    }
   ],
   "source": [
    "# Load data\n",
    "US2017 = pd.read_csv('../input/deaths-ages-15-64-2017.csv', sep='\\t')\n",
    "US2017.head(1)"
   ]
  },
  {
   "cell_type": "code",
   "execution_count": 13,
   "metadata": {},
   "outputs": [
    {
     "data": {
      "text/html": [
       "<div>\n",
       "<style scoped>\n",
       "    .dataframe tbody tr th:only-of-type {\n",
       "        vertical-align: middle;\n",
       "    }\n",
       "\n",
       "    .dataframe tbody tr th {\n",
       "        vertical-align: top;\n",
       "    }\n",
       "\n",
       "    .dataframe thead th {\n",
       "        text-align: right;\n",
       "    }\n",
       "</style>\n",
       "<table border=\"1\" class=\"dataframe\">\n",
       "  <thead>\n",
       "    <tr style=\"text-align: right;\">\n",
       "      <th></th>\n",
       "      <th>Notes</th>\n",
       "      <th>Year</th>\n",
       "      <th>Year Code</th>\n",
       "      <th>Deaths</th>\n",
       "      <th>Population</th>\n",
       "      <th>Rate</th>\n",
       "      <th>Age Adjusted Rate</th>\n",
       "      <th>Country</th>\n",
       "    </tr>\n",
       "  </thead>\n",
       "  <tbody>\n",
       "    <tr>\n",
       "      <td>0</td>\n",
       "      <td>NaN</td>\n",
       "      <td>2017.0</td>\n",
       "      <td>2017.0</td>\n",
       "      <td>66547.0</td>\n",
       "      <td>213838947.0</td>\n",
       "      <td>311.0</td>\n",
       "      <td>31.6</td>\n",
       "      <td>United States</td>\n",
       "    </tr>\n",
       "  </tbody>\n",
       "</table>\n",
       "</div>"
      ],
      "text/plain": [
       "  Notes    Year  Year Code   Deaths   Population   Rate  Age Adjusted Rate  \\\n",
       "0   NaN  2017.0     2017.0  66547.0  213838947.0  311.0               31.6   \n",
       "\n",
       "         Country  \n",
       "0  United States  "
      ]
     },
     "execution_count": 13,
     "metadata": {},
     "output_type": "execute_result"
    }
   ],
   "source": [
    "# Add Country col\n",
    "US2017['Country'] = \"United States\"\n",
    "\n",
    "# Convert units for crude rate\n",
    "US2017['Crude Rate'] = US2017['Crude Rate'] * 10\n",
    "\n",
    "# Rename cols\n",
    "US2017 = US2017.rename(columns={'Crude Rate': 'Rate'})\n",
    "\n",
    "# Keep only 1st row\n",
    "US2017 = US2017.iloc[0:1]\n",
    "US2017"
   ]
  },
  {
   "cell_type": "markdown",
   "metadata": {},
   "source": [
    "## Concat\n",
    "\n",
    "For ease of plotting in `ggplot`, we will:\n",
    "1. Concatenate our three `EU20##` datasets with our `US2017` dataset\n",
    "2. Sort countries by increasing death rate\n",
    "3. Convert \"Country\" to a categorical variable (so the sort order is preserved in ggplot)"
   ]
  },
  {
   "cell_type": "code",
   "execution_count": 362,
   "metadata": {},
   "outputs": [
    {
     "data": {
      "text/html": [
       "<div>\n",
       "<style scoped>\n",
       "    .dataframe tbody tr th:only-of-type {\n",
       "        vertical-align: middle;\n",
       "    }\n",
       "\n",
       "    .dataframe tbody tr th {\n",
       "        vertical-align: top;\n",
       "    }\n",
       "\n",
       "    .dataframe thead th {\n",
       "        text-align: right;\n",
       "    }\n",
       "</style>\n",
       "<table border=\"1\" class=\"dataframe\">\n",
       "  <thead>\n",
       "    <tr style=\"text-align: right;\">\n",
       "      <th></th>\n",
       "      <th>Country</th>\n",
       "      <th>Year</th>\n",
       "      <th>Deaths</th>\n",
       "      <th>Rate</th>\n",
       "    </tr>\n",
       "  </thead>\n",
       "  <tbody>\n",
       "    <tr>\n",
       "      <td>0</td>\n",
       "      <td>United States</td>\n",
       "      <td>2017.0</td>\n",
       "      <td>66547.0</td>\n",
       "      <td>311.0</td>\n",
       "    </tr>\n",
       "    <tr>\n",
       "      <td>1</td>\n",
       "      <td>Estonia</td>\n",
       "      <td>2017.0</td>\n",
       "      <td>110.0</td>\n",
       "      <td>130.0</td>\n",
       "    </tr>\n",
       "    <tr>\n",
       "      <td>2</td>\n",
       "      <td>Sweden</td>\n",
       "      <td>2017.0</td>\n",
       "      <td>626.0</td>\n",
       "      <td>100.0</td>\n",
       "    </tr>\n",
       "  </tbody>\n",
       "</table>\n",
       "</div>"
      ],
      "text/plain": [
       "         Country    Year   Deaths   Rate\n",
       "0  United States  2017.0  66547.0  311.0\n",
       "1        Estonia  2017.0    110.0  130.0\n",
       "2         Sweden  2017.0    626.0  100.0"
      ]
     },
     "execution_count": 362,
     "metadata": {},
     "output_type": "execute_result"
    }
   ],
   "source": [
    "# Concatenate\n",
    "US_EU = pd.concat([US2017, EU2017, EU2016, EU2015], sort=False) \n",
    "\n",
    "# Select cols we want\n",
    "US_EU = US_EU[['Country', 'Year', 'Deaths', 'Rate']]\n",
    "\n",
    "# Sort by increasing death rate\n",
    "# Note: We sort by year to get Portugal before Bulgaria ;)\n",
    "US_EU = US_EU.sort_values(by=[\"Rate\", \"Year\"], ascending=False).reset_index(drop=True)\n",
    "\n",
    "# Casts country to categorical type (to fix the order)\n",
    "US_EU['Country'] = pd.Categorical(US_EU.Country, categories=US_EU.Country)\n",
    "US_EU.head(3)"
   ]
  },
  {
   "cell_type": "markdown",
   "metadata": {},
   "source": [
    "# Drop \n",
    "\n",
    "We have 20 countries, which we feel is a bit too many to plot in one visual. We need to drop a handful of countries. We've decided to drop all Eastern European countries:\n",
    "\n",
    "* Bulgaria \n",
    "* Latvia\n",
    "* Slovenia\n",
    "* Lithuania\n",
    "* Estonia\n",
    "\n",
    "**Reasoning:** In comparing U.S. and Portugal our focus has been inherently Western-centric all along. Also, by only looking at data from 2015-2017, we have already left out a significant number of European countries (e.g. Greece, Poland, Romania, Turkey, etc.), and we don't believe there's any harm in leaving out a few more (though we admit our choice is somewhat arbitrary).\n"
   ]
  },
  {
   "cell_type": "code",
   "execution_count": 313,
   "metadata": {},
   "outputs": [
    {
     "data": {
      "text/html": [
       "<div>\n",
       "<style scoped>\n",
       "    .dataframe tbody tr th:only-of-type {\n",
       "        vertical-align: middle;\n",
       "    }\n",
       "\n",
       "    .dataframe tbody tr th {\n",
       "        vertical-align: top;\n",
       "    }\n",
       "\n",
       "    .dataframe thead th {\n",
       "        text-align: right;\n",
       "    }\n",
       "</style>\n",
       "<table border=\"1\" class=\"dataframe\">\n",
       "  <thead>\n",
       "    <tr style=\"text-align: right;\">\n",
       "      <th></th>\n",
       "      <th>Country</th>\n",
       "      <th>Year</th>\n",
       "      <th>Deaths</th>\n",
       "      <th>Rate</th>\n",
       "    </tr>\n",
       "  </thead>\n",
       "  <tbody>\n",
       "    <tr>\n",
       "      <td>16</td>\n",
       "      <td>Italy</td>\n",
       "      <td>2015.0</td>\n",
       "      <td>251.0</td>\n",
       "      <td>6.0</td>\n",
       "    </tr>\n",
       "    <tr>\n",
       "      <td>17</td>\n",
       "      <td>Spain</td>\n",
       "      <td>2016.0</td>\n",
       "      <td>154.0</td>\n",
       "      <td>5.0</td>\n",
       "    </tr>\n",
       "    <tr>\n",
       "      <td>19</td>\n",
       "      <td>Portugal</td>\n",
       "      <td>2016.0</td>\n",
       "      <td>30.0</td>\n",
       "      <td>4.0</td>\n",
       "    </tr>\n",
       "  </tbody>\n",
       "</table>\n",
       "</div>"
      ],
      "text/plain": [
       "     Country    Year  Deaths  Rate\n",
       "16     Italy  2015.0   251.0   6.0\n",
       "17     Spain  2016.0   154.0   5.0\n",
       "19  Portugal  2016.0    30.0   4.0"
      ]
     },
     "execution_count": 313,
     "metadata": {},
     "output_type": "execute_result"
    }
   ],
   "source": [
    "# Arbitrary countries to exclude\n",
    "exclude = ['Bulgaria', 'Latvia', 'Slovenia', 'Lithuania', 'Estonia']\n",
    "\n",
    "# Drop countries\n",
    "US_EU = US_EU.loc[US_EU.Country.isin(exclude) == False]\n",
    "US_EU.tail(3)"
   ]
  },
  {
   "cell_type": "markdown",
   "metadata": {},
   "source": [
    "-----------"
   ]
  },
  {
   "cell_type": "markdown",
   "metadata": {},
   "source": [
    "# Plot\n",
    "\n",
    "We'll plot a horizontal bar chart with Countries on the y-axis and deaths on the x-axis.\n",
    "\n",
    "TODO:\n",
    "* Add annotation in white space to give some context\n",
    "* Left-align caption at bottom\n",
    "* Last: Left-align title & subtitle using hjust (there must be a better way to do this)"
   ]
  },
  {
   "cell_type": "code",
   "execution_count": 314,
   "metadata": {},
   "outputs": [],
   "source": [
    "# Push dataframe to R\n",
    "%R -i US_EU"
   ]
  },
  {
   "cell_type": "code",
   "execution_count": 565,
   "metadata": {
    "code_folding": []
   },
   "outputs": [],
   "source": [
    "%%R\n",
    "\n",
    "# Number of countries\n",
    "n = length(US_EU$Country)\n",
    "\n",
    "# Theme vars\n",
    "faces <- c(\"bold\", rep(\"plain\", n-2), \"bold\")\n",
    "colours <- c(\"Black\", rep(\"grey20\", n-2), \"Black\")\n",
    "\n",
    "\n",
    "# Custom theme\n",
    "theme_custom <- theme(text = element_text(family = \"Helvetica\"),\n",
    "                      panel.grid = element_blank(),\n",
    "                      plot.margin = unit(c(0.5,1,1.5,0), \"cm\"),\n",
    "                      plot.title = element_text(size = 24, face = \"bold\", hjust = 0, vjust = 0),\n",
    "                      plot.subtitle = element_text(size = 16, hjust = 0, vjust = -1),\n",
    "                      plot.caption = element_text(size = 12, colour = \"grey60\", hjust = 0, vjust = -2),\n",
    "                      axis.title = element_blank(),\n",
    "                      axis.text.x = element_blank(),\n",
    "                      axis.text.y = element_text(size = 13, colour = colours, face = faces))\n",
    "\n",
    "# Bar vars\n",
    "highlight <- \"firebrick4\"\n",
    "normal <- \"#E5E4CD\"\n",
    "bar_fill <- c(highlight, rep(normal, n-2), highlight)\n",
    "\n",
    "# Annotation vars\n",
    "counts <- US_EU$Rate\n",
    "acolours <- c(\"white\", rep(\"grey20\", n-2), \"black\")\n",
    "x1 <- US_EU$Country\n",
    "y1 <- c(counts[1:10] - 7, counts[11:15] + 3.2)"
   ]
  },
  {
   "cell_type": "code",
   "execution_count": 566,
   "metadata": {},
   "outputs": [
    {
     "data": {
      "image/png": "[encoded data removed]"
     },
     "metadata": {},
     "output_type": "display_data"
    }
   ],
   "source": [
    "%%R -h 8 -w 11.5 -u in -r 200\n",
    "\n",
    "# Base\n",
    "q <- ggplot(data = US_EU, aes(x = Country, y = Rate))\n",
    "\n",
    "# Geoms\n",
    "q <- q + geom_col(fill = bar_fill)\n",
    "\n",
    "# Axes\n",
    "q <- q + scale_y_continuous(expand=c(0.01, 0))\n",
    "\n",
    "# Annotations\n",
    "q <- q + annotate(\"text\", label = counts, x = x1, y = y1, fontface = faces, size = 5, colour = acolours)\n",
    "\n",
    "# Titles\n",
    "q <- q + labs(title = \"\\nPortugal's Humanitarian Approach to Drug Abuse Is Working\")\n",
    "q <- q + labs(subtitle = \"Drug-related deaths per million, ages 15 to 64\\n\")\n",
    "q <- q + labs(caption = \"\\n2017 data except: Portugal, Spain, Denmark, Norway, United Kingdom (2016); Italy, France, Germany (2015)\\nSource: European Monitoring Center for Drugs and Drug Addiction\")\n",
    "\n",
    "# Coord flip\n",
    "q <- q + coord_flip()\n",
    "\n",
    "# Themes\n",
    "q <- q + theme_minimal() + theme_custom\n",
    "\n",
    "q"
   ]
  },
  {
   "cell_type": "code",
   "execution_count": null,
   "metadata": {},
   "outputs": [],
   "source": []
  }
 ],
 "metadata": {
  "kernelspec": {
   "display_name": "Python 3",
   "language": "python",
   "name": "python3"
  },
  "language_info": {
   "codemirror_mode": {
    "name": "ipython",
    "version": 3
   },
   "file_extension": ".py",
   "mimetype": "text/x-python",
   "name": "python",
   "nbconvert_exporter": "python",
   "pygments_lexer": "ipython3",
   "version": "3.7.4"
  },
  "toc": {
   "base_numbering": 1,
   "nav_menu": {},
   "number_sections": false,
   "sideBar": true,
   "skip_h1_title": false,
   "title_cell": "Table of Contents",
   "title_sidebar": "Contents",
   "toc_cell": true,
   "toc_position": {},
   "toc_section_display": true,
   "toc_window_display": false
  }
 },
 "nbformat": 4,
 "nbformat_minor": 2
}
